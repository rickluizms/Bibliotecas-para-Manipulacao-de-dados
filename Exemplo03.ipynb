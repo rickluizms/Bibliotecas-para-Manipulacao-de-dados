{
 "cells": [
  {
   "cell_type": "markdown",
   "id": "1dbee38e",
   "metadata": {},
   "source": [
    "**TOPICOS ABORDADOS:**\n",
    "* Pacote Numpy\n",
    "* Pacote Pandas\n",
    "* Pacote Matplotlib"
   ]
  },
  {
   "cell_type": "markdown",
   "id": "3493421e",
   "metadata": {},
   "source": [
    "**SITUAÇÃO PROBLEMA:** \n",
    "Quais são os pacotes direcionados para análise de dados que nos auxiliam na preparação e visualização de dados?"
   ]
  },
  {
   "cell_type": "markdown",
   "id": "0073a506",
   "metadata": {},
   "source": [
    "**1.0 - PACOTE NUMPY:**\n",
    "\n",
    "**-import numpy as np-**\n",
    "\n",
    "* Pacote de computação matemática, cientifica, de engenharia e de ciência de dados;\n",
    "* Suporte para arrays e matrizes;\n",
    "* Vasta quantidade de funções matemáticas;\n",
    "* Numpy permite trabalhar como um conjunto de dados que possui o mesmo tipo de dado e são indexados por um número inteiro positivo;\n",
    "* O objeto padrão do NumPy é o ndarray.\n"
   ]
  },
  {
   "cell_type": "markdown",
   "id": "6c4d299d",
   "metadata": {},
   "source": [
    "**1.1 IMPORTANDO O NUMPY:**"
   ]
  },
  {
   "cell_type": "code",
   "execution_count": 205,
   "id": "43b0b3f5",
   "metadata": {},
   "outputs": [],
   "source": [
    "import numpy as np"
   ]
  },
  {
   "cell_type": "markdown",
   "id": "f6362343",
   "metadata": {},
   "source": [
    "**1.2 VETORES:**"
   ]
  },
  {
   "cell_type": "code",
   "execution_count": 206,
   "id": "eb4bb929",
   "metadata": {},
   "outputs": [],
   "source": [
    "vet = np.array([1, 2, 3, 4, 5]) #Cria um vetor"
   ]
  },
  {
   "cell_type": "code",
   "execution_count": 207,
   "id": "083b6516",
   "metadata": {},
   "outputs": [
    {
     "data": {
      "text/plain": [
       "['T',\n",
       " '__abs__',\n",
       " '__add__',\n",
       " '__and__',\n",
       " '__array__',\n",
       " '__array_finalize__',\n",
       " '__array_function__',\n",
       " '__array_interface__',\n",
       " '__array_prepare__',\n",
       " '__array_priority__',\n",
       " '__array_struct__',\n",
       " '__array_ufunc__',\n",
       " '__array_wrap__',\n",
       " '__bool__',\n",
       " '__class__',\n",
       " '__complex__',\n",
       " '__contains__',\n",
       " '__copy__',\n",
       " '__deepcopy__',\n",
       " '__delattr__',\n",
       " '__delitem__',\n",
       " '__dir__',\n",
       " '__divmod__',\n",
       " '__doc__',\n",
       " '__eq__',\n",
       " '__float__',\n",
       " '__floordiv__',\n",
       " '__format__',\n",
       " '__ge__',\n",
       " '__getattribute__',\n",
       " '__getitem__',\n",
       " '__gt__',\n",
       " '__hash__',\n",
       " '__iadd__',\n",
       " '__iand__',\n",
       " '__ifloordiv__',\n",
       " '__ilshift__',\n",
       " '__imatmul__',\n",
       " '__imod__',\n",
       " '__imul__',\n",
       " '__index__',\n",
       " '__init__',\n",
       " '__init_subclass__',\n",
       " '__int__',\n",
       " '__invert__',\n",
       " '__ior__',\n",
       " '__ipow__',\n",
       " '__irshift__',\n",
       " '__isub__',\n",
       " '__iter__',\n",
       " '__itruediv__',\n",
       " '__ixor__',\n",
       " '__le__',\n",
       " '__len__',\n",
       " '__lshift__',\n",
       " '__lt__',\n",
       " '__matmul__',\n",
       " '__mod__',\n",
       " '__mul__',\n",
       " '__ne__',\n",
       " '__neg__',\n",
       " '__new__',\n",
       " '__or__',\n",
       " '__pos__',\n",
       " '__pow__',\n",
       " '__radd__',\n",
       " '__rand__',\n",
       " '__rdivmod__',\n",
       " '__reduce__',\n",
       " '__reduce_ex__',\n",
       " '__repr__',\n",
       " '__rfloordiv__',\n",
       " '__rlshift__',\n",
       " '__rmatmul__',\n",
       " '__rmod__',\n",
       " '__rmul__',\n",
       " '__ror__',\n",
       " '__rpow__',\n",
       " '__rrshift__',\n",
       " '__rshift__',\n",
       " '__rsub__',\n",
       " '__rtruediv__',\n",
       " '__rxor__',\n",
       " '__setattr__',\n",
       " '__setitem__',\n",
       " '__setstate__',\n",
       " '__sizeof__',\n",
       " '__str__',\n",
       " '__sub__',\n",
       " '__subclasshook__',\n",
       " '__truediv__',\n",
       " '__xor__',\n",
       " 'all',\n",
       " 'any',\n",
       " 'argmax',\n",
       " 'argmin',\n",
       " 'argpartition',\n",
       " 'argsort',\n",
       " 'astype',\n",
       " 'base',\n",
       " 'byteswap',\n",
       " 'choose',\n",
       " 'clip',\n",
       " 'compress',\n",
       " 'conj',\n",
       " 'conjugate',\n",
       " 'copy',\n",
       " 'ctypes',\n",
       " 'cumprod',\n",
       " 'cumsum',\n",
       " 'data',\n",
       " 'diagonal',\n",
       " 'dot',\n",
       " 'dtype',\n",
       " 'dump',\n",
       " 'dumps',\n",
       " 'fill',\n",
       " 'flags',\n",
       " 'flat',\n",
       " 'flatten',\n",
       " 'getfield',\n",
       " 'imag',\n",
       " 'item',\n",
       " 'itemset',\n",
       " 'itemsize',\n",
       " 'max',\n",
       " 'mean',\n",
       " 'min',\n",
       " 'nbytes',\n",
       " 'ndim',\n",
       " 'newbyteorder',\n",
       " 'nonzero',\n",
       " 'partition',\n",
       " 'prod',\n",
       " 'ptp',\n",
       " 'put',\n",
       " 'ravel',\n",
       " 'real',\n",
       " 'repeat',\n",
       " 'reshape',\n",
       " 'resize',\n",
       " 'round',\n",
       " 'searchsorted',\n",
       " 'setfield',\n",
       " 'setflags',\n",
       " 'shape',\n",
       " 'size',\n",
       " 'sort',\n",
       " 'squeeze',\n",
       " 'std',\n",
       " 'strides',\n",
       " 'sum',\n",
       " 'swapaxes',\n",
       " 'take',\n",
       " 'tobytes',\n",
       " 'tofile',\n",
       " 'tolist',\n",
       " 'tostring',\n",
       " 'trace',\n",
       " 'transpose',\n",
       " 'var',\n",
       " 'view']"
      ]
     },
     "execution_count": 207,
     "metadata": {},
     "output_type": "execute_result"
    }
   ],
   "source": [
    "dir(vet) #Mostra todas as funcionalidades de um vetor NumPy"
   ]
  },
  {
   "cell_type": "code",
   "execution_count": 208,
   "id": "09e67d32",
   "metadata": {},
   "outputs": [
    {
     "data": {
      "text/plain": [
       "['__add__',\n",
       " '__class__',\n",
       " '__class_getitem__',\n",
       " '__contains__',\n",
       " '__delattr__',\n",
       " '__delitem__',\n",
       " '__dir__',\n",
       " '__doc__',\n",
       " '__eq__',\n",
       " '__format__',\n",
       " '__ge__',\n",
       " '__getattribute__',\n",
       " '__getitem__',\n",
       " '__gt__',\n",
       " '__hash__',\n",
       " '__iadd__',\n",
       " '__imul__',\n",
       " '__init__',\n",
       " '__init_subclass__',\n",
       " '__iter__',\n",
       " '__le__',\n",
       " '__len__',\n",
       " '__lt__',\n",
       " '__mul__',\n",
       " '__ne__',\n",
       " '__new__',\n",
       " '__reduce__',\n",
       " '__reduce_ex__',\n",
       " '__repr__',\n",
       " '__reversed__',\n",
       " '__rmul__',\n",
       " '__setattr__',\n",
       " '__setitem__',\n",
       " '__sizeof__',\n",
       " '__str__',\n",
       " '__subclasshook__',\n",
       " 'append',\n",
       " 'clear',\n",
       " 'copy',\n",
       " 'count',\n",
       " 'extend',\n",
       " 'index',\n",
       " 'insert',\n",
       " 'pop',\n",
       " 'remove',\n",
       " 'reverse',\n",
       " 'sort']"
      ]
     },
     "execution_count": 208,
     "metadata": {},
     "output_type": "execute_result"
    }
   ],
   "source": [
    "list = [1, 2, 3, 4, 5]\n",
    "dir(list) #Mostra todas as funcionalidades de uma lista"
   ]
  },
  {
   "cell_type": "code",
   "execution_count": 209,
   "id": "d27df1d3",
   "metadata": {},
   "outputs": [
    {
     "name": "stdout",
     "output_type": "stream",
     "text": [
      "[ 0.     0.333  0.666  0.999  1.332  1.665  1.998  2.331  2.664  2.997\n",
      "  3.33   3.663  3.996  4.329  4.662  4.995  5.328  5.661  5.994  6.327\n",
      "  6.66   6.993  7.326  7.659  7.992  8.325  8.658  8.991  9.324  9.657\n",
      "  9.99  10.323 10.656 10.989 11.322 11.655 11.988]\n"
     ]
    }
   ],
   "source": [
    "vet2 = np.arange(0, 12, 0.333) #Cria uma progressão (Valor Inicial, Valor Final, Base)\n",
    "print(vet2)"
   ]
  },
  {
   "cell_type": "markdown",
   "id": "24e012ef",
   "metadata": {},
   "source": [
    "**1.3 MATRIZES:**"
   ]
  },
  {
   "cell_type": "code",
   "execution_count": 210,
   "id": "e45052a8",
   "metadata": {},
   "outputs": [],
   "source": [
    "matriz = np.array([[1, 2, 3], [3, 2, 1], [2, 3, 1]])\n",
    "matriz2 = np.random.randn(3,3)"
   ]
  },
  {
   "cell_type": "code",
   "execution_count": 211,
   "id": "35fc8f19",
   "metadata": {},
   "outputs": [
    {
     "name": "stdout",
     "output_type": "stream",
     "text": [
      "Matriz 01 = \n",
      " [[1 2 3]\n",
      " [3 2 1]\n",
      " [2 3 1]]\n",
      "Matriz 02 = \n",
      " [[ 1.29146189 -1.42669539  0.63045784]\n",
      " [ 0.42842987 -1.67253866 -1.19778157]\n",
      " [ 0.10409122 -0.60249783  1.6820847 ]]\n"
     ]
    }
   ],
   "source": [
    "print(\"Matriz 01 = \\n\", matriz)\n",
    "print(\"Matriz 02 = \\n\", matriz2)"
   ]
  },
  {
   "cell_type": "markdown",
   "id": "91aacaf5",
   "metadata": {},
   "source": [
    "**1.4 CALCULOS:**"
   ]
  },
  {
   "cell_type": "code",
   "execution_count": 212,
   "id": "1e0af411",
   "metadata": {},
   "outputs": [],
   "source": [
    "vetor = np.array([10,40,566,234,34]) #Definindo vetor base para calculos"
   ]
  },
  {
   "cell_type": "code",
   "execution_count": 213,
   "id": "058be362",
   "metadata": {},
   "outputs": [
    {
     "name": "stdout",
     "output_type": "stream",
     "text": [
      "176.8\n",
      "210.55963525804276\n",
      "44335.36\n",
      "884\n",
      "1801238400\n"
     ]
    }
   ],
   "source": [
    "media = np.mean(vetor)\n",
    "desPrad = np.std(vetor)\n",
    "var = np.var(vetor)\n",
    "soma = np.sum(vetor)\n",
    "prod = np.prod(vetor)\n",
    "print(media)\n",
    "print(desPrad)\n",
    "print(var)\n",
    "print(soma)\n",
    "print(prod)"
   ]
  },
  {
   "cell_type": "markdown",
   "id": "e0ec5503",
   "metadata": {},
   "source": [
    "**1.5 TRATAMENTO DE VETORES**"
   ]
  },
  {
   "cell_type": "code",
   "execution_count": 214,
   "id": "038cd0fb",
   "metadata": {},
   "outputs": [
    {
     "data": {
      "text/plain": [
       "array([ 10,  40, 566, 234,  34])"
      ]
     },
     "execution_count": 214,
     "metadata": {},
     "output_type": "execute_result"
    }
   ],
   "source": [
    "vetor2 = np.arange(10)\n",
    "vetor"
   ]
  },
  {
   "cell_type": "code",
   "execution_count": 215,
   "id": "73fbe718",
   "metadata": {},
   "outputs": [
    {
     "name": "stdout",
     "output_type": "stream",
     "text": [
      "[1 3 5 7]\n",
      "[0 1 2]\n",
      "0\n",
      "9\n",
      "4.5\n"
     ]
    }
   ],
   "source": [
    "print(vetor2[1:9:2])\n",
    "print(vetor2[:3])\n",
    "print(vetor2.min())\n",
    "print(vetor2.max())\n",
    "print(vetor2.mean())"
   ]
  },
  {
   "cell_type": "markdown",
   "id": "3ca8c9f9",
   "metadata": {},
   "source": []
  },
  {
   "cell_type": "markdown",
   "id": "6c2f255a",
   "metadata": {},
   "source": [
    "**2.0 PACOTE PANDAS:**\n",
    "\n",
    "**-import pandas as pd-**\n",
    "* Possui uma variedade de métodos para se criar, manipular e organizar os dados;\n",
    "* Um pacote que manipula \"planilhas de dados\" ou tabelas;\n",
    "* Trabalha com Series e DataFrames:\n",
    " - Series: Conjunto de dados unidimensionais; \n",
    " - DataFrames: conjunto de dados bidimensionais;\n",
    " \n",
    " \n",
    "  <img src=\"img_001.png\">"
   ]
  },
  {
   "cell_type": "markdown",
   "id": "23327d0f",
   "metadata": {},
   "source": [
    "**2.1 IMPORTANDO O PANDAS:**"
   ]
  },
  {
   "cell_type": "code",
   "execution_count": 216,
   "id": "cecd2f8f",
   "metadata": {},
   "outputs": [],
   "source": [
    "import numpy as np #(caso precise no numpy para usar o pandas)\n",
    "import pandas as pd "
   ]
  },
  {
   "cell_type": "markdown",
   "id": "bc5d9c9f",
   "metadata": {},
   "source": [
    "**2.2 SERIES:**"
   ]
  },
  {
   "cell_type": "code",
   "execution_count": 217,
   "id": "2c3df7f6",
   "metadata": {},
   "outputs": [],
   "source": [
    "s1 = pd.Series([23, 55, 7, 8, 10]) #Definindo uma nova serie"
   ]
  },
  {
   "cell_type": "code",
   "execution_count": 218,
   "id": "2f784312",
   "metadata": {},
   "outputs": [
    {
     "data": {
      "text/plain": [
       "0    23\n",
       "1    55\n",
       "2     7\n",
       "3     8\n",
       "4    10\n",
       "dtype: int64"
      ]
     },
     "execution_count": 218,
     "metadata": {},
     "output_type": "execute_result"
    }
   ],
   "source": [
    "s1 #Visualizando Serie 01"
   ]
  },
  {
   "cell_type": "code",
   "execution_count": 219,
   "id": "c9b31e59",
   "metadata": {},
   "outputs": [
    {
     "data": {
      "text/plain": [
       "array([23, 55,  7,  8, 10], dtype=int64)"
      ]
     },
     "execution_count": 219,
     "metadata": {},
     "output_type": "execute_result"
    }
   ],
   "source": [
    "s1.values #Visualizando Valores da Serie 01"
   ]
  },
  {
   "cell_type": "code",
   "execution_count": 220,
   "id": "73b8809a",
   "metadata": {},
   "outputs": [
    {
     "data": {
      "text/plain": [
       "RangeIndex(start=0, stop=5, step=1)"
      ]
     },
     "execution_count": 220,
     "metadata": {},
     "output_type": "execute_result"
    }
   ],
   "source": [
    "s1.index #Visualizando indices de posicionamento"
   ]
  },
  {
   "cell_type": "code",
   "execution_count": 221,
   "id": "7b3ac048",
   "metadata": {},
   "outputs": [],
   "source": [
    "s2 = pd.Series([23, 55, 7, 8, 10], index = ['A','B','C','D','E']) #Definindo Serie 02 com indices personalizados"
   ]
  },
  {
   "cell_type": "code",
   "execution_count": 222,
   "id": "67840037",
   "metadata": {},
   "outputs": [
    {
     "data": {
      "text/plain": [
       "A    23\n",
       "B    55\n",
       "C     7\n",
       "D     8\n",
       "E    10\n",
       "dtype: int64"
      ]
     },
     "execution_count": 222,
     "metadata": {},
     "output_type": "execute_result"
    }
   ],
   "source": [
    "s2 #Visualizando Serie 02"
   ]
  },
  {
   "cell_type": "markdown",
   "id": "8989b223",
   "metadata": {},
   "source": [
    "**2.3 DATAFRAMES** "
   ]
  },
  {
   "cell_type": "code",
   "execution_count": 223,
   "id": "53680295",
   "metadata": {},
   "outputs": [],
   "source": [
    "#Definindo dados:\n",
    "dados ={'Ano': [2014, 2015, 2016, 2017, 2018, 2019],\n",
    "      'Pais': ['EUA', 'China', 'Brasil', 'Canada', 'Portugal', 'Espanha'],\n",
    "      'Vendas': [50, 60, 70, 40, 10, 88]}"
   ]
  },
  {
   "cell_type": "code",
   "execution_count": 224,
   "id": "4513f95c",
   "metadata": {},
   "outputs": [],
   "source": [
    "#Definindo um DataFrame:\n",
    "df = pd.DataFrame(dados)"
   ]
  },
  {
   "cell_type": "code",
   "execution_count": 225,
   "id": "378c03e4",
   "metadata": {},
   "outputs": [
    {
     "data": {
      "text/html": [
       "<div>\n",
       "<style scoped>\n",
       "    .dataframe tbody tr th:only-of-type {\n",
       "        vertical-align: middle;\n",
       "    }\n",
       "\n",
       "    .dataframe tbody tr th {\n",
       "        vertical-align: top;\n",
       "    }\n",
       "\n",
       "    .dataframe thead th {\n",
       "        text-align: right;\n",
       "    }\n",
       "</style>\n",
       "<table border=\"1\" class=\"dataframe\">\n",
       "  <thead>\n",
       "    <tr style=\"text-align: right;\">\n",
       "      <th></th>\n",
       "      <th>Ano</th>\n",
       "      <th>Pais</th>\n",
       "      <th>Vendas</th>\n",
       "    </tr>\n",
       "  </thead>\n",
       "  <tbody>\n",
       "    <tr>\n",
       "      <th>0</th>\n",
       "      <td>2014</td>\n",
       "      <td>EUA</td>\n",
       "      <td>50</td>\n",
       "    </tr>\n",
       "    <tr>\n",
       "      <th>1</th>\n",
       "      <td>2015</td>\n",
       "      <td>China</td>\n",
       "      <td>60</td>\n",
       "    </tr>\n",
       "    <tr>\n",
       "      <th>2</th>\n",
       "      <td>2016</td>\n",
       "      <td>Brasil</td>\n",
       "      <td>70</td>\n",
       "    </tr>\n",
       "    <tr>\n",
       "      <th>3</th>\n",
       "      <td>2017</td>\n",
       "      <td>Canada</td>\n",
       "      <td>40</td>\n",
       "    </tr>\n",
       "    <tr>\n",
       "      <th>4</th>\n",
       "      <td>2018</td>\n",
       "      <td>Portugal</td>\n",
       "      <td>10</td>\n",
       "    </tr>\n",
       "    <tr>\n",
       "      <th>5</th>\n",
       "      <td>2019</td>\n",
       "      <td>Espanha</td>\n",
       "      <td>88</td>\n",
       "    </tr>\n",
       "  </tbody>\n",
       "</table>\n",
       "</div>"
      ],
      "text/plain": [
       "    Ano      Pais  Vendas\n",
       "0  2014       EUA      50\n",
       "1  2015     China      60\n",
       "2  2016    Brasil      70\n",
       "3  2017    Canada      40\n",
       "4  2018  Portugal      10\n",
       "5  2019   Espanha      88"
      ]
     },
     "execution_count": 225,
     "metadata": {},
     "output_type": "execute_result"
    }
   ],
   "source": [
    "#Visualisando o DataFrame:\n",
    "df"
   ]
  },
  {
   "cell_type": "code",
   "execution_count": 226,
   "id": "60cd8706",
   "metadata": {},
   "outputs": [
    {
     "data": {
      "text/plain": [
       "0         EUA\n",
       "1       China\n",
       "2      Brasil\n",
       "3      Canada\n",
       "4    Portugal\n",
       "5     Espanha\n",
       "Name: Pais, dtype: object"
      ]
     },
     "execution_count": 226,
     "metadata": {},
     "output_type": "execute_result"
    }
   ],
   "source": [
    "#Visualisando apenas uma coluna:\n",
    "df[\"Pais\"]"
   ]
  },
  {
   "cell_type": "code",
   "execution_count": 227,
   "id": "9c128dc9",
   "metadata": {},
   "outputs": [
    {
     "data": {
      "text/html": [
       "<div>\n",
       "<style scoped>\n",
       "    .dataframe tbody tr th:only-of-type {\n",
       "        vertical-align: middle;\n",
       "    }\n",
       "\n",
       "    .dataframe tbody tr th {\n",
       "        vertical-align: top;\n",
       "    }\n",
       "\n",
       "    .dataframe thead th {\n",
       "        text-align: right;\n",
       "    }\n",
       "</style>\n",
       "<table border=\"1\" class=\"dataframe\">\n",
       "  <thead>\n",
       "    <tr style=\"text-align: right;\">\n",
       "      <th></th>\n",
       "      <th>Ano</th>\n",
       "      <th>Pais</th>\n",
       "      <th>Vendas</th>\n",
       "    </tr>\n",
       "  </thead>\n",
       "  <tbody>\n",
       "    <tr>\n",
       "      <th>0</th>\n",
       "      <td>2014</td>\n",
       "      <td>EUA</td>\n",
       "      <td>50</td>\n",
       "    </tr>\n",
       "    <tr>\n",
       "      <th>1</th>\n",
       "      <td>2015</td>\n",
       "      <td>China</td>\n",
       "      <td>60</td>\n",
       "    </tr>\n",
       "  </tbody>\n",
       "</table>\n",
       "</div>"
      ],
      "text/plain": [
       "    Ano   Pais  Vendas\n",
       "0  2014    EUA      50\n",
       "1  2015  China      60"
      ]
     },
     "execution_count": 227,
     "metadata": {},
     "output_type": "execute_result"
    }
   ],
   "source": [
    "#Visualizando apenas duas linhas:\n",
    "df[:2]"
   ]
  },
  {
   "cell_type": "code",
   "execution_count": 228,
   "id": "b28517f9",
   "metadata": {},
   "outputs": [
    {
     "data": {
      "text/html": [
       "<div>\n",
       "<style scoped>\n",
       "    .dataframe tbody tr th:only-of-type {\n",
       "        vertical-align: middle;\n",
       "    }\n",
       "\n",
       "    .dataframe tbody tr th {\n",
       "        vertical-align: top;\n",
       "    }\n",
       "\n",
       "    .dataframe thead th {\n",
       "        text-align: right;\n",
       "    }\n",
       "</style>\n",
       "<table border=\"1\" class=\"dataframe\">\n",
       "  <thead>\n",
       "    <tr style=\"text-align: right;\">\n",
       "      <th></th>\n",
       "      <th>Ano</th>\n",
       "      <th>Pais</th>\n",
       "      <th>Vendas</th>\n",
       "    </tr>\n",
       "  </thead>\n",
       "  <tbody>\n",
       "    <tr>\n",
       "      <th>0</th>\n",
       "      <td>2014</td>\n",
       "      <td>EUA</td>\n",
       "      <td>50</td>\n",
       "    </tr>\n",
       "    <tr>\n",
       "      <th>1</th>\n",
       "      <td>2015</td>\n",
       "      <td>China</td>\n",
       "      <td>60</td>\n",
       "    </tr>\n",
       "    <tr>\n",
       "      <th>2</th>\n",
       "      <td>2016</td>\n",
       "      <td>Brasil</td>\n",
       "      <td>70</td>\n",
       "    </tr>\n",
       "    <tr>\n",
       "      <th>3</th>\n",
       "      <td>2017</td>\n",
       "      <td>Canada</td>\n",
       "      <td>40</td>\n",
       "    </tr>\n",
       "    <tr>\n",
       "      <th>4</th>\n",
       "      <td>2018</td>\n",
       "      <td>Portugal</td>\n",
       "      <td>10</td>\n",
       "    </tr>\n",
       "  </tbody>\n",
       "</table>\n",
       "</div>"
      ],
      "text/plain": [
       "    Ano      Pais  Vendas\n",
       "0  2014       EUA      50\n",
       "1  2015     China      60\n",
       "2  2016    Brasil      70\n",
       "3  2017    Canada      40\n",
       "4  2018  Portugal      10"
      ]
     },
     "execution_count": 228,
     "metadata": {},
     "output_type": "execute_result"
    }
   ],
   "source": [
    "#Visualizando linhas iniciais:\n",
    "df.head()"
   ]
  },
  {
   "cell_type": "code",
   "execution_count": 229,
   "id": "fed66763",
   "metadata": {},
   "outputs": [
    {
     "data": {
      "text/html": [
       "<div>\n",
       "<style scoped>\n",
       "    .dataframe tbody tr th:only-of-type {\n",
       "        vertical-align: middle;\n",
       "    }\n",
       "\n",
       "    .dataframe tbody tr th {\n",
       "        vertical-align: top;\n",
       "    }\n",
       "\n",
       "    .dataframe thead th {\n",
       "        text-align: right;\n",
       "    }\n",
       "</style>\n",
       "<table border=\"1\" class=\"dataframe\">\n",
       "  <thead>\n",
       "    <tr style=\"text-align: right;\">\n",
       "      <th></th>\n",
       "      <th>Ano</th>\n",
       "      <th>Pais</th>\n",
       "      <th>Vendas</th>\n",
       "    </tr>\n",
       "  </thead>\n",
       "  <tbody>\n",
       "    <tr>\n",
       "      <th>1</th>\n",
       "      <td>2015</td>\n",
       "      <td>China</td>\n",
       "      <td>60</td>\n",
       "    </tr>\n",
       "    <tr>\n",
       "      <th>2</th>\n",
       "      <td>2016</td>\n",
       "      <td>Brasil</td>\n",
       "      <td>70</td>\n",
       "    </tr>\n",
       "    <tr>\n",
       "      <th>3</th>\n",
       "      <td>2017</td>\n",
       "      <td>Canada</td>\n",
       "      <td>40</td>\n",
       "    </tr>\n",
       "    <tr>\n",
       "      <th>4</th>\n",
       "      <td>2018</td>\n",
       "      <td>Portugal</td>\n",
       "      <td>10</td>\n",
       "    </tr>\n",
       "    <tr>\n",
       "      <th>5</th>\n",
       "      <td>2019</td>\n",
       "      <td>Espanha</td>\n",
       "      <td>88</td>\n",
       "    </tr>\n",
       "  </tbody>\n",
       "</table>\n",
       "</div>"
      ],
      "text/plain": [
       "    Ano      Pais  Vendas\n",
       "1  2015     China      60\n",
       "2  2016    Brasil      70\n",
       "3  2017    Canada      40\n",
       "4  2018  Portugal      10\n",
       "5  2019   Espanha      88"
      ]
     },
     "execution_count": 229,
     "metadata": {},
     "output_type": "execute_result"
    }
   ],
   "source": [
    "#Visualizando linhas finais:\n",
    "df.tail()"
   ]
  },
  {
   "cell_type": "code",
   "execution_count": 230,
   "id": "1ac9869a",
   "metadata": {},
   "outputs": [
    {
     "data": {
      "text/plain": [
       "RangeIndex(start=0, stop=6, step=1)"
      ]
     },
     "execution_count": 230,
     "metadata": {},
     "output_type": "execute_result"
    }
   ],
   "source": [
    "#Visualizando Indices:\n",
    "df.index"
   ]
  },
  {
   "cell_type": "markdown",
   "id": "d78a0525",
   "metadata": {},
   "source": [
    "**2.4 USANDO PANDAS E NUMPY JUNTOS** "
   ]
  },
  {
   "cell_type": "code",
   "execution_count": 231,
   "id": "b1075bfa",
   "metadata": {},
   "outputs": [],
   "source": [
    "#Criando um novo DataFrame\n",
    "df2 = pd.DataFrame(dados, columns = ['Ano', 'Pais', 'Vendas', 'Valores'], index=['a','b','c','d','e','f'])"
   ]
  },
  {
   "cell_type": "code",
   "execution_count": 232,
   "id": "0776215d",
   "metadata": {},
   "outputs": [
    {
     "data": {
      "text/html": [
       "<div>\n",
       "<style scoped>\n",
       "    .dataframe tbody tr th:only-of-type {\n",
       "        vertical-align: middle;\n",
       "    }\n",
       "\n",
       "    .dataframe tbody tr th {\n",
       "        vertical-align: top;\n",
       "    }\n",
       "\n",
       "    .dataframe thead th {\n",
       "        text-align: right;\n",
       "    }\n",
       "</style>\n",
       "<table border=\"1\" class=\"dataframe\">\n",
       "  <thead>\n",
       "    <tr style=\"text-align: right;\">\n",
       "      <th></th>\n",
       "      <th>Ano</th>\n",
       "      <th>Pais</th>\n",
       "      <th>Vendas</th>\n",
       "      <th>Valores</th>\n",
       "    </tr>\n",
       "  </thead>\n",
       "  <tbody>\n",
       "    <tr>\n",
       "      <th>a</th>\n",
       "      <td>2014</td>\n",
       "      <td>EUA</td>\n",
       "      <td>50</td>\n",
       "      <td>NaN</td>\n",
       "    </tr>\n",
       "    <tr>\n",
       "      <th>b</th>\n",
       "      <td>2015</td>\n",
       "      <td>China</td>\n",
       "      <td>60</td>\n",
       "      <td>NaN</td>\n",
       "    </tr>\n",
       "    <tr>\n",
       "      <th>c</th>\n",
       "      <td>2016</td>\n",
       "      <td>Brasil</td>\n",
       "      <td>70</td>\n",
       "      <td>NaN</td>\n",
       "    </tr>\n",
       "    <tr>\n",
       "      <th>d</th>\n",
       "      <td>2017</td>\n",
       "      <td>Canada</td>\n",
       "      <td>40</td>\n",
       "      <td>NaN</td>\n",
       "    </tr>\n",
       "    <tr>\n",
       "      <th>e</th>\n",
       "      <td>2018</td>\n",
       "      <td>Portugal</td>\n",
       "      <td>10</td>\n",
       "      <td>NaN</td>\n",
       "    </tr>\n",
       "    <tr>\n",
       "      <th>f</th>\n",
       "      <td>2019</td>\n",
       "      <td>Espanha</td>\n",
       "      <td>88</td>\n",
       "      <td>NaN</td>\n",
       "    </tr>\n",
       "  </tbody>\n",
       "</table>\n",
       "</div>"
      ],
      "text/plain": [
       "    Ano      Pais  Vendas Valores\n",
       "a  2014       EUA      50     NaN\n",
       "b  2015     China      60     NaN\n",
       "c  2016    Brasil      70     NaN\n",
       "d  2017    Canada      40     NaN\n",
       "e  2018  Portugal      10     NaN\n",
       "f  2019   Espanha      88     NaN"
      ]
     },
     "execution_count": 232,
     "metadata": {},
     "output_type": "execute_result"
    }
   ],
   "source": [
    "#Visualizando o DataFrame\n",
    "df2"
   ]
  },
  {
   "cell_type": "markdown",
   "id": "fdf267a6",
   "metadata": {},
   "source": [
    "Note que a coluna **'Valores'** exibiu o valor **NaN**, isto acontece porque não temos nenhum dado para essa coluna. Para resolver isso, podemos usar o **NumPy** para criar uma lista de Valores aleatorios para completar a coluna 'Valores':"
   ]
  },
  {
   "cell_type": "code",
   "execution_count": 233,
   "id": "2f0781e2",
   "metadata": {},
   "outputs": [],
   "source": [
    "#Criando uma lista de valores aleatórios ultilizando o NumPy\n",
    "df2['Valores'] = np.random.rand(6)*100"
   ]
  },
  {
   "cell_type": "code",
   "execution_count": 234,
   "id": "c904a3f8",
   "metadata": {},
   "outputs": [
    {
     "data": {
      "text/html": [
       "<div>\n",
       "<style scoped>\n",
       "    .dataframe tbody tr th:only-of-type {\n",
       "        vertical-align: middle;\n",
       "    }\n",
       "\n",
       "    .dataframe tbody tr th {\n",
       "        vertical-align: top;\n",
       "    }\n",
       "\n",
       "    .dataframe thead th {\n",
       "        text-align: right;\n",
       "    }\n",
       "</style>\n",
       "<table border=\"1\" class=\"dataframe\">\n",
       "  <thead>\n",
       "    <tr style=\"text-align: right;\">\n",
       "      <th></th>\n",
       "      <th>Ano</th>\n",
       "      <th>Pais</th>\n",
       "      <th>Vendas</th>\n",
       "      <th>Valores</th>\n",
       "    </tr>\n",
       "  </thead>\n",
       "  <tbody>\n",
       "    <tr>\n",
       "      <th>a</th>\n",
       "      <td>2014</td>\n",
       "      <td>EUA</td>\n",
       "      <td>50</td>\n",
       "      <td>9.349980</td>\n",
       "    </tr>\n",
       "    <tr>\n",
       "      <th>b</th>\n",
       "      <td>2015</td>\n",
       "      <td>China</td>\n",
       "      <td>60</td>\n",
       "      <td>96.805915</td>\n",
       "    </tr>\n",
       "    <tr>\n",
       "      <th>c</th>\n",
       "      <td>2016</td>\n",
       "      <td>Brasil</td>\n",
       "      <td>70</td>\n",
       "      <td>81.184673</td>\n",
       "    </tr>\n",
       "    <tr>\n",
       "      <th>d</th>\n",
       "      <td>2017</td>\n",
       "      <td>Canada</td>\n",
       "      <td>40</td>\n",
       "      <td>61.131661</td>\n",
       "    </tr>\n",
       "    <tr>\n",
       "      <th>e</th>\n",
       "      <td>2018</td>\n",
       "      <td>Portugal</td>\n",
       "      <td>10</td>\n",
       "      <td>84.971771</td>\n",
       "    </tr>\n",
       "    <tr>\n",
       "      <th>f</th>\n",
       "      <td>2019</td>\n",
       "      <td>Espanha</td>\n",
       "      <td>88</td>\n",
       "      <td>20.691641</td>\n",
       "    </tr>\n",
       "  </tbody>\n",
       "</table>\n",
       "</div>"
      ],
      "text/plain": [
       "    Ano      Pais  Vendas    Valores\n",
       "a  2014       EUA      50   9.349980\n",
       "b  2015     China      60  96.805915\n",
       "c  2016    Brasil      70  81.184673\n",
       "d  2017    Canada      40  61.131661\n",
       "e  2018  Portugal      10  84.971771\n",
       "f  2019   Espanha      88  20.691641"
      ]
     },
     "execution_count": 234,
     "metadata": {},
     "output_type": "execute_result"
    }
   ],
   "source": [
    "#Visualizando o resultado:\n",
    "df2"
   ]
  },
  {
   "cell_type": "markdown",
   "id": "53435bfa",
   "metadata": {},
   "source": [
    "**2.5 VISUALIZANDO DESCRIÇÃO DO DATAFRAME**"
   ]
  },
  {
   "cell_type": "code",
   "execution_count": 235,
   "id": "a2e37da0",
   "metadata": {
    "scrolled": true
   },
   "outputs": [
    {
     "data": {
      "text/html": [
       "<div>\n",
       "<style scoped>\n",
       "    .dataframe tbody tr th:only-of-type {\n",
       "        vertical-align: middle;\n",
       "    }\n",
       "\n",
       "    .dataframe tbody tr th {\n",
       "        vertical-align: top;\n",
       "    }\n",
       "\n",
       "    .dataframe thead th {\n",
       "        text-align: right;\n",
       "    }\n",
       "</style>\n",
       "<table border=\"1\" class=\"dataframe\">\n",
       "  <thead>\n",
       "    <tr style=\"text-align: right;\">\n",
       "      <th></th>\n",
       "      <th>Ano</th>\n",
       "      <th>Vendas</th>\n",
       "      <th>Valores</th>\n",
       "    </tr>\n",
       "  </thead>\n",
       "  <tbody>\n",
       "    <tr>\n",
       "      <th>count</th>\n",
       "      <td>6.000000</td>\n",
       "      <td>6.000000</td>\n",
       "      <td>6.000000</td>\n",
       "    </tr>\n",
       "    <tr>\n",
       "      <th>mean</th>\n",
       "      <td>2016.500000</td>\n",
       "      <td>53.000000</td>\n",
       "      <td>59.022607</td>\n",
       "    </tr>\n",
       "    <tr>\n",
       "      <th>std</th>\n",
       "      <td>1.870829</td>\n",
       "      <td>26.795522</td>\n",
       "      <td>36.147408</td>\n",
       "    </tr>\n",
       "    <tr>\n",
       "      <th>min</th>\n",
       "      <td>2014.000000</td>\n",
       "      <td>10.000000</td>\n",
       "      <td>9.349980</td>\n",
       "    </tr>\n",
       "    <tr>\n",
       "      <th>25%</th>\n",
       "      <td>2015.250000</td>\n",
       "      <td>42.500000</td>\n",
       "      <td>30.801646</td>\n",
       "    </tr>\n",
       "    <tr>\n",
       "      <th>50%</th>\n",
       "      <td>2016.500000</td>\n",
       "      <td>55.000000</td>\n",
       "      <td>71.158167</td>\n",
       "    </tr>\n",
       "    <tr>\n",
       "      <th>75%</th>\n",
       "      <td>2017.750000</td>\n",
       "      <td>67.500000</td>\n",
       "      <td>84.024996</td>\n",
       "    </tr>\n",
       "    <tr>\n",
       "      <th>max</th>\n",
       "      <td>2019.000000</td>\n",
       "      <td>88.000000</td>\n",
       "      <td>96.805915</td>\n",
       "    </tr>\n",
       "  </tbody>\n",
       "</table>\n",
       "</div>"
      ],
      "text/plain": [
       "               Ano     Vendas    Valores\n",
       "count     6.000000   6.000000   6.000000\n",
       "mean   2016.500000  53.000000  59.022607\n",
       "std       1.870829  26.795522  36.147408\n",
       "min    2014.000000  10.000000   9.349980\n",
       "25%    2015.250000  42.500000  30.801646\n",
       "50%    2016.500000  55.000000  71.158167\n",
       "75%    2017.750000  67.500000  84.024996\n",
       "max    2019.000000  88.000000  96.805915"
      ]
     },
     "execution_count": 235,
     "metadata": {},
     "output_type": "execute_result"
    }
   ],
   "source": [
    "#Visualizando descrição\n",
    "df2.describe()"
   ]
  },
  {
   "cell_type": "markdown",
   "id": "d8957a67",
   "metadata": {},
   "source": []
  },
  {
   "cell_type": "markdown",
   "id": "100ecc91",
   "metadata": {},
   "source": [
    "**3.0 PACOTE MATPLOTLIB:**\n",
    "\n",
    "**-import matplotlib.pyplot as plt-**\n",
    "\n",
    "* Auxilia na visualização gráfica dos dados:\n",
    "\n",
    " <img src=\"img_002.png\">"
   ]
  },
  {
   "cell_type": "markdown",
   "id": "a5cc4e56",
   "metadata": {},
   "source": [
    "**3.1 IMPORTANDO O MATPLOTLIB:**"
   ]
  },
  {
   "cell_type": "code",
   "execution_count": 236,
   "id": "d8b64b65",
   "metadata": {},
   "outputs": [],
   "source": [
    "import numpy as np #Importando numpy para trabalhar com valores\n",
    "import pandas as pd  #Importando pandas para trabalhar com as planilhas\n",
    "import matplotlib.pyplot as plt #Importando o '.pyplot' que é suficiente para essa aula"
   ]
  },
  {
   "cell_type": "markdown",
   "id": "4835346f",
   "metadata": {},
   "source": [
    "**3.2 CRIANDO UM CONJUNTO DE DADOS**"
   ]
  },
  {
   "cell_type": "code",
   "execution_count": 237,
   "id": "5242a58f",
   "metadata": {},
   "outputs": [],
   "source": [
    "#Criando um novo conjunto de dados\n",
    "x = np.linspace(0,10, 20)"
   ]
  },
  {
   "cell_type": "code",
   "execution_count": 238,
   "id": "a5c904ba",
   "metadata": {},
   "outputs": [
    {
     "data": {
      "text/plain": [
       "array([ 0.        ,  0.52631579,  1.05263158,  1.57894737,  2.10526316,\n",
       "        2.63157895,  3.15789474,  3.68421053,  4.21052632,  4.73684211,\n",
       "        5.26315789,  5.78947368,  6.31578947,  6.84210526,  7.36842105,\n",
       "        7.89473684,  8.42105263,  8.94736842,  9.47368421, 10.        ])"
      ]
     },
     "execution_count": 238,
     "metadata": {},
     "output_type": "execute_result"
    }
   ],
   "source": [
    "#Visualizando os dados (x):\n",
    "x"
   ]
  },
  {
   "cell_type": "code",
   "execution_count": 239,
   "id": "091ad992",
   "metadata": {},
   "outputs": [],
   "source": [
    "#Criando outro conjunto de dados(x^2)\n",
    "y = x ** 2"
   ]
  },
  {
   "cell_type": "code",
   "execution_count": 240,
   "id": "ba9f51b2",
   "metadata": {},
   "outputs": [
    {
     "data": {
      "text/plain": [
       "array([  0.        ,   0.27700831,   1.10803324,   2.49307479,\n",
       "         4.43213296,   6.92520776,   9.97229917,  13.5734072 ,\n",
       "        17.72853186,  22.43767313,  27.70083102,  33.51800554,\n",
       "        39.88919668,  46.81440443,  54.29362881,  62.32686981,\n",
       "        70.91412742,  80.05540166,  89.75069252, 100.        ])"
      ]
     },
     "execution_count": 240,
     "metadata": {},
     "output_type": "execute_result"
    }
   ],
   "source": [
    "#Visualizando dados (y):\n",
    "y"
   ]
  },
  {
   "cell_type": "markdown",
   "id": "0358757c",
   "metadata": {},
   "source": [
    "**3.3 CRIANDO UMA VISUALIZAÇÃO GRAFICA**"
   ]
  },
  {
   "cell_type": "code",
   "execution_count": 241,
   "id": "19d9b194",
   "metadata": {
    "scrolled": true
   },
   "outputs": [
    {
     "data": {
      "image/png": "[encoded data removed]",
      "text/plain": [
       "<Figure size 640x480 with 1 Axes>"
      ]
     },
     "metadata": {},
     "output_type": "display_data"
    }
   ],
   "source": [
    "plt.plot(x, y) #Definindo Valores\n",
    "plt.title('Grafico 01')  #Definindo Titulo\n",
    "plt.xlabel('Variavel do eixo X') #Descrição Eixo X\n",
    "plt.ylabel('Variavel do eixo Y') #Descrição Eixo Y\n",
    "plt.show() #Mostrar o grafico na tela"
   ]
  },
  {
   "cell_type": "markdown",
   "id": "e3dea849",
   "metadata": {},
   "source": [
    "**OUTRO EXEMPLO:**"
   ]
  },
  {
   "cell_type": "code",
   "execution_count": 242,
   "id": "1137d28b",
   "metadata": {},
   "outputs": [],
   "source": [
    "#Criando um novo conjunto de dados:\n",
    "linguagens = ('Python', 'C++', 'Java', 'Perl', 'Javascript', 'Lisp')"
   ]
  },
  {
   "cell_type": "code",
   "execution_count": 243,
   "id": "66f84433",
   "metadata": {},
   "outputs": [],
   "source": [
    "#Criando um novo conjunto de dados para o eixo(x):\n",
    "eixo_x = np.arange(len(linguagens))"
   ]
  },
  {
   "cell_type": "code",
   "execution_count": 244,
   "id": "93ac49a3",
   "metadata": {},
   "outputs": [],
   "source": [
    "#Criando um novo conjunto de dados para o eixo(y):\n",
    "eixo_y = [10, 8, 6, 7, 5, 3]"
   ]
  },
  {
   "cell_type": "code",
   "execution_count": 245,
   "id": "ae39ae4f",
   "metadata": {},
   "outputs": [
    {
     "data": {
      "text/plain": [
       "array([0, 1, 2, 3, 4, 5])"
      ]
     },
     "execution_count": 245,
     "metadata": {},
     "output_type": "execute_result"
    }
   ],
   "source": [
    "#Visualizando eixo (x)\n",
    "eixo_x"
   ]
  },
  {
   "cell_type": "code",
   "execution_count": 246,
   "id": "ca1fad2c",
   "metadata": {},
   "outputs": [
    {
     "data": {
      "text/plain": [
       "[10, 8, 6, 7, 5, 3]"
      ]
     },
     "execution_count": 246,
     "metadata": {},
     "output_type": "execute_result"
    }
   ],
   "source": [
    "#Visualizando eixo (y):\n",
    "eixo_y"
   ]
  },
  {
   "cell_type": "code",
   "execution_count": 247,
   "id": "3573fd9c",
   "metadata": {},
   "outputs": [
    {
     "data": {
      "text/plain": [
       "<BarContainer object of 6 artists>"
      ]
     },
     "execution_count": 247,
     "metadata": {},
     "output_type": "execute_result"
    },
    {
     "data": {
      "image/png": "[encoded data removed]",
      "text/plain": [
       "<Figure size 640x480 with 1 Axes>"
      ]
     },
     "metadata": {},
     "output_type": "display_data"
    }
   ],
   "source": [
    "#Visualizando os valores em um grafico de barras:\n",
    "plt.bar(eixo_x, eixo_y, align='center')"
   ]
  },
  {
   "cell_type": "code",
   "execution_count": 249,
   "id": "de530f96",
   "metadata": {
    "scrolled": false
   },
   "outputs": [
    {
     "data": {
      "text/plain": [
       "Text(0, 0.5, 'Taxa de uso')"
      ]
     },
     "execution_count": 249,
     "metadata": {},
     "output_type": "execute_result"
    },
    {
     "data": {
      "image/png": "[encoded data removed]",
      "text/plain": [
       "<Figure size 640x480 with 1 Axes>"
      ]
     },
     "metadata": {},
     "output_type": "display_data"
    }
   ],
   "source": [
    "#Para adicionarmos os valores do conjunto(linguagens):\n",
    "plt.title('Uso de linguagens de programação')\n",
    "plt.bar(eixo_x, eixo_y, align='center')\n",
    "plt.xticks(eixo_x, linguagens) #Descrição eixo (x)\n",
    "plt.ylabel('Taxa de uso') #Descrição eixo (y)"
   ]
  },
  {
   "cell_type": "markdown",
   "id": "3f52c225",
   "metadata": {},
   "source": [
    "**OUTRO EXEMPLO**"
   ]
  },
  {
   "cell_type": "code",
   "execution_count": 250,
   "id": "c94ed83a",
   "metadata": {},
   "outputs": [],
   "source": [
    "#Criando um novo conjunto de dados:\n",
    "labels = 'Android', 'Blackberry', 'Windows Phone', 'IOS'"
   ]
  },
  {
   "cell_type": "code",
   "execution_count": 251,
   "id": "901089b5",
   "metadata": {},
   "outputs": [],
   "source": [
    "#Criando um vetor de vendas:\n",
    "vendas = [80, 2.5, 2.5, 15]"
   ]
  },
  {
   "cell_type": "markdown",
   "id": "77faa7e8",
   "metadata": {},
   "source": [
    "**ADICIONANDO ESTILOS**"
   ]
  },
  {
   "cell_type": "code",
   "execution_count": 252,
   "id": "1bcd8aef",
   "metadata": {},
   "outputs": [],
   "source": [
    "#Adicionando cores ao ():\n",
    "cores = ['lightyellow', 'lightgreen', 'lightcoral', 'lightskyblue']"
   ]
  },
  {
   "cell_type": "code",
   "execution_count": 253,
   "id": "e7f82798",
   "metadata": {},
   "outputs": [],
   "source": [
    "#Adicionando um item em destaque:\n",
    "explode = (0, 0,0,0)"
   ]
  },
  {
   "cell_type": "code",
   "execution_count": 254,
   "id": "5834cd5c",
   "metadata": {},
   "outputs": [
    {
     "data": {
      "image/png": "[encoded data removed]",
      "text/plain": [
       "<Figure size 640x480 with 1 Axes>"
      ]
     },
     "metadata": {},
     "output_type": "display_data"
    }
   ],
   "source": [
    "#Criando um grafico de pizza:\n",
    "plt.title('') #Difinindo Titulo\n",
    "plt.pie(vendas, explode = explode, labels= labels, colors = cores, \n",
    "        autopct = '% .f%%', shadow=True, startangle = 0)\n",
    "plt.axis('equal')\n",
    "plt.show()"
   ]
  }
 ],
 "metadata": {
  "kernelspec": {
   "display_name": "Python 3 (ipykernel)",
   "language": "python",
   "name": "python3"
  },
  "language_info": {
   "codemirror_mode": {
    "name": "ipython",
    "version": 3
   },
   "file_extension": ".py",
   "mimetype": "text/x-python",
   "name": "python",
   "nbconvert_exporter": "python",
   "pygments_lexer": "ipython3",
   "version": "3.9.13"
  }
 },
 "nbformat": 4,
 "nbformat_minor": 5
}
